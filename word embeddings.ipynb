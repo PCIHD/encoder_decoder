{
 "cells": [
  {
   "cell_type": "code",
   "execution_count": 1,
   "id": "initial_id",
   "metadata": {
    "collapsed": true,
    "ExecuteTime": {
     "end_time": "2024-01-07T11:31:54.245144Z",
     "start_time": "2024-01-07T11:31:48.297484200Z"
    }
   },
   "outputs": [],
   "source": [
    "import torch\n",
    "import lightning as L\n",
    "from torch.utils.data import TensorDataset,DataLoader\n",
    "# custom modules\n",
    "from word_embedding import WordEmbeddings,WordnPositionalEmbeddings\n",
    "from utils import plot_token_relations , vectorize_text, get_weights"
   ]
  },
  {
   "cell_type": "code",
   "outputs": [],
   "source": [
    "input_texts = [\"Roads ? Where we're going we don't need roads\",\"It's alive! It's alive!\",\"May the Force be with you.\",\"Life finds a way\"]"
   ],
   "metadata": {
    "collapsed": false,
    "ExecuteTime": {
     "end_time": "2024-01-07T11:31:54.258742400Z",
     "start_time": "2024-01-07T11:31:54.247664700Z"
    }
   },
   "id": "2e0ff6bff7c1e14d",
   "execution_count": 2
  },
  {
   "cell_type": "code",
   "outputs": [],
   "source": [
    "eos_symbol = '<eos>'\n",
    "input_texts = [input_text.lower() + f' {eos_symbol}' for input_text in input_texts]"
   ],
   "metadata": {
    "collapsed": false,
    "ExecuteTime": {
     "end_time": "2024-01-07T11:31:54.284778700Z",
     "start_time": "2024-01-07T11:31:54.258742400Z"
    }
   },
   "id": "a1513d82764e9a3",
   "execution_count": 3
  },
  {
   "cell_type": "code",
   "outputs": [],
   "source": [
    "vocabulary = []\n",
    "for text in input_texts:\n",
    "    vocabulary.extend(text.split(' '))\n",
    "vocabulary = list(set(vocabulary))"
   ],
   "metadata": {
    "collapsed": false,
    "ExecuteTime": {
     "end_time": "2024-01-07T11:31:54.292299Z",
     "start_time": "2024-01-07T11:31:54.276763900Z"
    }
   },
   "id": "19d434ffd732874e",
   "execution_count": 4
  },
  {
   "cell_type": "code",
   "outputs": [
    {
     "data": {
      "text/plain": "[\"it's\",\n 'a',\n 'life',\n 'way',\n 'with',\n 'finds',\n 'we',\n 'roads',\n '<eos>',\n '?',\n 'force',\n 'need',\n 'be',\n 'going',\n 'where',\n \"don't\",\n 'you.',\n 'may',\n 'the',\n 'alive!',\n \"we're\"]"
     },
     "execution_count": 5,
     "metadata": {},
     "output_type": "execute_result"
    }
   ],
   "source": [
    "vocabulary"
   ],
   "metadata": {
    "collapsed": false,
    "ExecuteTime": {
     "end_time": "2024-01-07T11:31:54.308383800Z",
     "start_time": "2024-01-07T11:31:54.296810Z"
    }
   },
   "id": "7bc4d28db21e9f30",
   "execution_count": 5
  },
  {
   "cell_type": "code",
   "outputs": [],
   "source": [],
   "metadata": {
    "collapsed": false,
    "ExecuteTime": {
     "end_time": "2024-01-07T11:31:54.322414Z",
     "start_time": "2024-01-07T11:31:54.307376600Z"
    }
   },
   "id": "7fa64be9ff403866",
   "execution_count": 5
  },
  {
   "cell_type": "code",
   "outputs": [],
   "source": [
    "input_encodings = []\n",
    "label_encodings = []\n",
    "for text in input_texts:\n",
    "    inputs,labels = vectorize_text(eos_symbol,text,vocabulary)\n",
    "    input_encodings.extend(inputs)\n",
    "    label_encodings.extend(labels)"
   ],
   "metadata": {
    "collapsed": false,
    "ExecuteTime": {
     "end_time": "2024-01-07T11:31:54.375168500Z",
     "start_time": "2024-01-07T11:31:54.324415600Z"
    }
   },
   "id": "626cbfcfc4aab3f2",
   "execution_count": 6
  },
  {
   "cell_type": "code",
   "outputs": [
    {
     "data": {
      "text/plain": "21"
     },
     "execution_count": 7,
     "metadata": {},
     "output_type": "execute_result"
    }
   ],
   "source": [
    "len(input_encodings[0])\n"
   ],
   "metadata": {
    "collapsed": false,
    "ExecuteTime": {
     "end_time": "2024-01-07T11:31:54.376671200Z",
     "start_time": "2024-01-07T11:31:54.338080Z"
    }
   },
   "id": "1cff096d6da05d8b",
   "execution_count": 7
  },
  {
   "cell_type": "code",
   "outputs": [
    {
     "data": {
      "text/plain": "21"
     },
     "execution_count": 8,
     "metadata": {},
     "output_type": "execute_result"
    }
   ],
   "source": [
    "len(label_encodings[0])"
   ],
   "metadata": {
    "collapsed": false,
    "ExecuteTime": {
     "end_time": "2024-01-07T11:31:54.423761900Z",
     "start_time": "2024-01-07T11:31:54.353597400Z"
    }
   },
   "id": "e45214e64ffe05ae",
   "execution_count": 8
  },
  {
   "cell_type": "code",
   "outputs": [],
   "source": [
    "inputs = torch.tensor(input_encodings)\n",
    "labels = torch.tensor(label_encodings)\n",
    "dataset = TensorDataset(inputs,labels)\n",
    "dataloader = DataLoader(dataset)"
   ],
   "metadata": {
    "collapsed": false,
    "ExecuteTime": {
     "end_time": "2024-01-07T11:31:54.426269700Z",
     "start_time": "2024-01-07T11:31:54.371168500Z"
    }
   },
   "id": "33f0e5b78bdd1092",
   "execution_count": 9
  },
  {
   "cell_type": "code",
   "outputs": [
    {
     "data": {
      "text/plain": "21"
     },
     "execution_count": 10,
     "metadata": {},
     "output_type": "execute_result"
    }
   ],
   "source": [
    "len(vocabulary)"
   ],
   "metadata": {
    "collapsed": false,
    "ExecuteTime": {
     "end_time": "2024-01-07T11:31:54.439319300Z",
     "start_time": "2024-01-07T11:31:54.388202300Z"
    }
   },
   "id": "6d293e067bd19f8d",
   "execution_count": 10
  },
  {
   "cell_type": "code",
   "outputs": [],
   "source": [
    "word_embedding = WordEmbeddings(vocab_size=len(vocabulary),network_width=2)"
   ],
   "metadata": {
    "collapsed": false,
    "ExecuteTime": {
     "end_time": "2024-01-07T11:31:54.469513Z",
     "start_time": "2024-01-07T11:31:54.400721600Z"
    }
   },
   "id": "7d5499a48651e207",
   "execution_count": 11
  },
  {
   "cell_type": "code",
   "outputs": [
    {
     "name": "stdout",
     "output_type": "stream",
     "text": [
      "Pre training parameters\n"
     ]
    },
    {
     "data": {
      "text/plain": "<Figure size 640x480 with 1 Axes>",
      "image/png": "[encoded data removed]"
     },
     "metadata": {},
     "output_type": "display_data"
    }
   ],
   "source": [
    "print('Pre training parameters')\n",
    "plot_token_relations(word_embedding,vocabulary)"
   ],
   "metadata": {
    "collapsed": false,
    "ExecuteTime": {
     "end_time": "2024-01-07T11:31:54.634368100Z",
     "start_time": "2024-01-07T11:31:54.431288100Z"
    }
   },
   "id": "f5c8aabb1388af36",
   "execution_count": 12
  },
  {
   "cell_type": "code",
   "outputs": [
    {
     "name": "stderr",
     "output_type": "stream",
     "text": [
      "GPU available: True (cuda), used: True\n",
      "TPU available: False, using: 0 TPU cores\n",
      "IPU available: False, using: 0 IPUs\n",
      "HPU available: False, using: 0 HPUs\n",
      "LOCAL_RANK: 0 - CUDA_VISIBLE_DEVICES: [0]\n",
      "\n",
      "  | Name         | Type             | Params\n",
      "--------------------------------------------------\n",
      "0 | loss         | CrossEntropyLoss | 0     \n",
      "  | other params | n/a              | 84    \n",
      "--------------------------------------------------\n",
      "84        Trainable params\n",
      "0         Non-trainable params\n",
      "84        Total params\n",
      "0.000     Total estimated model params size (MB)\n",
      "C:\\Users\\parag\\.conda\\envs\\encoder_decoder\\lib\\site-packages\\lightning\\pytorch\\trainer\\connectors\\data_connector.py:441: The 'train_dataloader' does not have many workers which may be a bottleneck. Consider increasing the value of the `num_workers` argument` to `num_workers=11` in the `DataLoader` to improve performance.\n",
      "C:\\Users\\parag\\.conda\\envs\\encoder_decoder\\lib\\site-packages\\lightning\\pytorch\\loops\\fit_loop.py:293: The number of training batches (27) is smaller than the logging interval Trainer(log_every_n_steps=50). Set a lower value for log_every_n_steps if you want to see logs for the training epoch.\n"
     ]
    },
    {
     "data": {
      "text/plain": "Training: |          | 0/? [00:00<?, ?it/s]",
      "application/vnd.jupyter.widget-view+json": {
       "version_major": 2,
       "version_minor": 0,
       "model_id": "ea16bccc51884d3cb0633b5bf84cc41c"
      }
     },
     "metadata": {},
     "output_type": "display_data"
    },
    {
     "name": "stderr",
     "output_type": "stream",
     "text": [
      "`Trainer.fit` stopped: `max_epochs=150` reached.\n"
     ]
    }
   ],
   "source": [
    "trainer = L.Trainer(max_epochs=150)\n",
    "trainer.fit(word_embedding,train_dataloaders=dataloader)"
   ],
   "metadata": {
    "collapsed": false,
    "ExecuteTime": {
     "end_time": "2024-01-07T11:33:02.842352Z",
     "start_time": "2024-01-07T11:31:54.636365100Z"
    }
   },
   "id": "e753ac482168c962",
   "execution_count": 13
  },
  {
   "cell_type": "code",
   "outputs": [
    {
     "name": "stdout",
     "output_type": "stream",
     "text": [
      "Post training parameters\n"
     ]
    },
    {
     "data": {
      "text/plain": "<Figure size 640x480 with 1 Axes>",
      "image/png": "[encoded data removed]"
     },
     "metadata": {},
     "output_type": "display_data"
    }
   ],
   "source": [
    "print('Post training parameters')\n",
    "plot_token_relations(word_embedding,vocabulary)"
   ],
   "metadata": {
    "collapsed": false,
    "ExecuteTime": {
     "end_time": "2024-01-07T11:33:03.015682700Z",
     "start_time": "2024-01-07T11:33:02.829817700Z"
    }
   },
   "id": "5b3be076622ab704",
   "execution_count": 14
  },
  {
   "cell_type": "code",
   "outputs": [],
   "source": [
    "weights_df = get_weights(word_embedding,vocabulary)"
   ],
   "metadata": {
    "collapsed": false,
    "ExecuteTime": {
     "end_time": "2024-01-07T11:33:03.085300Z",
     "start_time": "2024-01-07T11:33:03.016690900Z"
    }
   },
   "id": "9e13b0ab152d098d",
   "execution_count": 15
  },
  {
   "cell_type": "code",
   "outputs": [
    {
     "data": {
      "text/plain": "           0         1   token\n0   1.869098 -1.529633    it's\n1   1.133479 -2.597922       a\n2   0.111049 -1.110047    life\n3   3.836430  1.270033     way\n4  -2.698283 -1.055972    with\n5   0.715103 -2.601790   finds\n6  -2.214278  2.199875      we\n7  -0.864902  2.596997   roads\n8   3.969333  3.564429   <eos>\n9  -2.311185  1.704758       ?\n10 -1.075338 -2.456230   force\n11 -0.270472  3.042584    need\n12 -2.148820 -1.657176      be\n13 -2.223948  1.035883   going\n14 -2.760375  0.314472   where\n15 -1.037453  2.415149   don't\n16 -2.935359 -0.348676    you.\n17  0.041398 -1.716964     may\n18 -0.367068 -2.493618     the\n19  2.293974 -1.341452  alive!\n20 -3.001973  0.481755   we're",
      "text/html": "<div>\n<style scoped>\n    .dataframe tbody tr th:only-of-type {\n        vertical-align: middle;\n    }\n\n    .dataframe tbody tr th {\n        vertical-align: top;\n    }\n\n    .dataframe thead th {\n        text-align: right;\n    }\n</style>\n<table border=\"1\" class=\"dataframe\">\n  <thead>\n    <tr style=\"text-align: right;\">\n      <th></th>\n      <th>0</th>\n      <th>1</th>\n      <th>token</th>\n    </tr>\n  </thead>\n  <tbody>\n    <tr>\n      <th>0</th>\n      <td>1.869098</td>\n      <td>-1.529633</td>\n      <td>it's</td>\n    </tr>\n    <tr>\n      <th>1</th>\n      <td>1.133479</td>\n      <td>-2.597922</td>\n      <td>a</td>\n    </tr>\n    <tr>\n      <th>2</th>\n      <td>0.111049</td>\n      <td>-1.110047</td>\n      <td>life</td>\n    </tr>\n    <tr>\n      <th>3</th>\n      <td>3.836430</td>\n      <td>1.270033</td>\n      <td>way</td>\n    </tr>\n    <tr>\n      <th>4</th>\n      <td>-2.698283</td>\n      <td>-1.055972</td>\n      <td>with</td>\n    </tr>\n    <tr>\n      <th>5</th>\n      <td>0.715103</td>\n      <td>-2.601790</td>\n      <td>finds</td>\n    </tr>\n    <tr>\n      <th>6</th>\n      <td>-2.214278</td>\n      <td>2.199875</td>\n      <td>we</td>\n    </tr>\n    <tr>\n      <th>7</th>\n      <td>-0.864902</td>\n      <td>2.596997</td>\n      <td>roads</td>\n    </tr>\n    <tr>\n      <th>8</th>\n      <td>3.969333</td>\n      <td>3.564429</td>\n      <td>&lt;eos&gt;</td>\n    </tr>\n    <tr>\n      <th>9</th>\n      <td>-2.311185</td>\n      <td>1.704758</td>\n      <td>?</td>\n    </tr>\n    <tr>\n      <th>10</th>\n      <td>-1.075338</td>\n      <td>-2.456230</td>\n      <td>force</td>\n    </tr>\n    <tr>\n      <th>11</th>\n      <td>-0.270472</td>\n      <td>3.042584</td>\n      <td>need</td>\n    </tr>\n    <tr>\n      <th>12</th>\n      <td>-2.148820</td>\n      <td>-1.657176</td>\n      <td>be</td>\n    </tr>\n    <tr>\n      <th>13</th>\n      <td>-2.223948</td>\n      <td>1.035883</td>\n      <td>going</td>\n    </tr>\n    <tr>\n      <th>14</th>\n      <td>-2.760375</td>\n      <td>0.314472</td>\n      <td>where</td>\n    </tr>\n    <tr>\n      <th>15</th>\n      <td>-1.037453</td>\n      <td>2.415149</td>\n      <td>don't</td>\n    </tr>\n    <tr>\n      <th>16</th>\n      <td>-2.935359</td>\n      <td>-0.348676</td>\n      <td>you.</td>\n    </tr>\n    <tr>\n      <th>17</th>\n      <td>0.041398</td>\n      <td>-1.716964</td>\n      <td>may</td>\n    </tr>\n    <tr>\n      <th>18</th>\n      <td>-0.367068</td>\n      <td>-2.493618</td>\n      <td>the</td>\n    </tr>\n    <tr>\n      <th>19</th>\n      <td>2.293974</td>\n      <td>-1.341452</td>\n      <td>alive!</td>\n    </tr>\n    <tr>\n      <th>20</th>\n      <td>-3.001973</td>\n      <td>0.481755</td>\n      <td>we're</td>\n    </tr>\n  </tbody>\n</table>\n</div>"
     },
     "execution_count": 16,
     "metadata": {},
     "output_type": "execute_result"
    }
   ],
   "source": [
    "weights_df"
   ],
   "metadata": {
    "collapsed": false,
    "ExecuteTime": {
     "end_time": "2024-01-07T11:33:03.122348500Z",
     "start_time": "2024-01-07T11:33:03.032211800Z"
    }
   },
   "id": "5cfd1a5d80499550",
   "execution_count": 16
  },
  {
   "cell_type": "markdown",
   "source": [
    "# Positional encodings"
   ],
   "metadata": {
    "collapsed": false
   },
   "id": "eae7b0591a634403"
  },
  {
   "cell_type": "code",
   "outputs": [],
   "source": [
    "word_n_positional_embedding = WordnPositionalEmbeddings(vocab_size=len(vocabulary),network_width=2)\n"
   ],
   "metadata": {
    "collapsed": false,
    "ExecuteTime": {
     "end_time": "2024-01-07T11:33:03.122348500Z",
     "start_time": "2024-01-07T11:33:03.066280800Z"
    }
   },
   "id": "17ba20eaebbadb46",
   "execution_count": 17
  },
  {
   "cell_type": "code",
   "outputs": [
    {
     "name": "stderr",
     "output_type": "stream",
     "text": [
      "GPU available: True (cuda), used: True\n",
      "TPU available: False, using: 0 TPU cores\n",
      "IPU available: False, using: 0 IPUs\n",
      "HPU available: False, using: 0 HPUs\n",
      "LOCAL_RANK: 0 - CUDA_VISIBLE_DEVICES: [0]\n",
      "\n",
      "  | Name         | Type             | Params\n",
      "--------------------------------------------------\n",
      "0 | loss         | CrossEntropyLoss | 0     \n",
      "  | other params | n/a              | 84    \n",
      "--------------------------------------------------\n",
      "84        Trainable params\n",
      "0         Non-trainable params\n",
      "84        Total params\n",
      "0.000     Total estimated model params size (MB)\n",
      "C:\\Users\\parag\\.conda\\envs\\encoder_decoder\\lib\\site-packages\\lightning\\pytorch\\trainer\\connectors\\data_connector.py:441: The 'train_dataloader' does not have many workers which may be a bottleneck. Consider increasing the value of the `num_workers` argument` to `num_workers=11` in the `DataLoader` to improve performance.\n",
      "C:\\Users\\parag\\.conda\\envs\\encoder_decoder\\lib\\site-packages\\lightning\\pytorch\\loops\\fit_loop.py:293: The number of training batches (27) is smaller than the logging interval Trainer(log_every_n_steps=50). Set a lower value for log_every_n_steps if you want to see logs for the training epoch.\n"
     ]
    },
    {
     "data": {
      "text/plain": "Training: |          | 0/? [00:00<?, ?it/s]",
      "application/vnd.jupyter.widget-view+json": {
       "version_major": 2,
       "version_minor": 0,
       "model_id": "ce2810afac2840f9ac7f449fa580788e"
      }
     },
     "metadata": {},
     "output_type": "display_data"
    },
    {
     "name": "stderr",
     "output_type": "stream",
     "text": [
      "`Trainer.fit` stopped: `max_epochs=150` reached.\n"
     ]
    }
   ],
   "source": [
    "trainer = L.Trainer(max_epochs=150)\n",
    "trainer.fit(word_n_positional_embedding,train_dataloaders=dataloader)"
   ],
   "metadata": {
    "collapsed": false,
    "ExecuteTime": {
     "end_time": "2024-01-07T11:34:18.205399800Z",
     "start_time": "2024-01-07T11:33:03.079793800Z"
    }
   },
   "id": "2b917ab32dc391b6",
   "execution_count": 18
  },
  {
   "cell_type": "code",
   "outputs": [
    {
     "name": "stdout",
     "output_type": "stream",
     "text": [
      "Post training with positional encoding parameters\n"
     ]
    },
    {
     "data": {
      "text/plain": "<Figure size 640x480 with 1 Axes>",
      "image/png": "[encoded data removed]"
     },
     "metadata": {},
     "output_type": "display_data"
    }
   ],
   "source": [
    "print('Post training with positional encoding parameters')\n",
    "plot_token_relations(word_n_positional_embedding, vocabulary)"
   ],
   "metadata": {
    "collapsed": false,
    "ExecuteTime": {
     "end_time": "2024-01-07T11:34:52.473128100Z",
     "start_time": "2024-01-07T11:34:52.290163300Z"
    }
   },
   "id": "4af50700da212c78",
   "execution_count": 19
  },
  {
   "cell_type": "code",
   "outputs": [],
   "source": [],
   "metadata": {
    "collapsed": false
   },
   "id": "b532f8f8e793aa5f"
  }
 ],
 "metadata": {
  "kernelspec": {
   "display_name": "Python 3",
   "language": "python",
   "name": "python3"
  },
  "language_info": {
   "codemirror_mode": {
    "name": "ipython",
    "version": 2
   },
   "file_extension": ".py",
   "mimetype": "text/x-python",
   "name": "python",
   "nbconvert_exporter": "python",
   "pygments_lexer": "ipython2",
   "version": "2.7.6"
  }
 },
 "nbformat": 4,
 "nbformat_minor": 5
}
