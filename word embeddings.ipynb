{
 "cells": [
  {
   "cell_type": "code",
   "execution_count": 1,
   "id": "initial_id",
   "metadata": {
    "collapsed": true,
    "ExecuteTime": {
     "end_time": "2023-12-27T18:45:18.125420400Z",
     "start_time": "2023-12-27T18:45:12.238234900Z"
    }
   },
   "outputs": [],
   "source": [
    "import torch\n",
    "import lightning as L\n",
    "from torch.utils.data import TensorDataset,DataLoader\n",
    "# custom modules\n",
    "from word_embedding import WordEmbeddings\n",
    "from utils import plot_token_relations , vectorize_text, get_weights"
   ]
  },
  {
   "cell_type": "code",
   "outputs": [],
   "source": [
    "input_texts = [\"Roads ? Where we're going we don't need roads\",\"It's alive! It's alive!\",\"May the Force be with you.\",\"Life finds a way\"]"
   ],
   "metadata": {
    "collapsed": false,
    "ExecuteTime": {
     "end_time": "2023-12-27T18:45:18.141420600Z",
     "start_time": "2023-12-27T18:45:18.128424100Z"
    }
   },
   "id": "2e0ff6bff7c1e14d",
   "execution_count": 2
  },
  {
   "cell_type": "code",
   "outputs": [],
   "source": [
    "eos_symbol = '<eos>'\n",
    "input_texts = [input_text.lower() + f' {eos_symbol}' for input_text in input_texts]"
   ],
   "metadata": {
    "collapsed": false,
    "ExecuteTime": {
     "end_time": "2023-12-27T18:45:18.160423Z",
     "start_time": "2023-12-27T18:45:18.140421300Z"
    }
   },
   "id": "a1513d82764e9a3",
   "execution_count": 3
  },
  {
   "cell_type": "code",
   "outputs": [],
   "source": [
    "vocabulary = []\n",
    "for text in input_texts:\n",
    "    vocabulary.extend(text.split(' '))\n",
    "vocabulary = list(set(vocabulary))"
   ],
   "metadata": {
    "collapsed": false,
    "ExecuteTime": {
     "end_time": "2023-12-27T18:45:18.170421Z",
     "start_time": "2023-12-27T18:45:18.157422Z"
    }
   },
   "id": "19d434ffd732874e",
   "execution_count": 4
  },
  {
   "cell_type": "code",
   "outputs": [
    {
     "data": {
      "text/plain": "['a',\n 'way',\n 'need',\n 'alive!',\n 'may',\n \"don't\",\n 'you.',\n 'force',\n '<eos>',\n 'be',\n 'roads',\n 'the',\n 'with',\n 'life',\n 'going',\n '?',\n 'where',\n 'we',\n \"it's\",\n \"we're\",\n 'finds']"
     },
     "execution_count": 5,
     "metadata": {},
     "output_type": "execute_result"
    }
   ],
   "source": [
    "vocabulary"
   ],
   "metadata": {
    "collapsed": false,
    "ExecuteTime": {
     "end_time": "2023-12-27T18:45:18.208947100Z",
     "start_time": "2023-12-27T18:45:18.170421Z"
    }
   },
   "id": "7bc4d28db21e9f30",
   "execution_count": 5
  },
  {
   "cell_type": "code",
   "outputs": [],
   "source": [],
   "metadata": {
    "collapsed": false,
    "ExecuteTime": {
     "end_time": "2023-12-27T18:45:18.209947400Z",
     "start_time": "2023-12-27T18:45:18.189431700Z"
    }
   },
   "id": "7fa64be9ff403866",
   "execution_count": 5
  },
  {
   "cell_type": "code",
   "outputs": [],
   "source": [
    "input_encodings = []\n",
    "label_encodings = []\n",
    "for text in input_texts:\n",
    "    inputs,labels = vectorize_text(eos_symbol,text,vocabulary)\n",
    "    input_encodings.extend(inputs)\n",
    "    label_encodings.extend(labels)"
   ],
   "metadata": {
    "collapsed": false,
    "ExecuteTime": {
     "end_time": "2023-12-27T18:45:18.225948800Z",
     "start_time": "2023-12-27T18:45:18.204948900Z"
    }
   },
   "id": "626cbfcfc4aab3f2",
   "execution_count": 6
  },
  {
   "cell_type": "code",
   "outputs": [
    {
     "data": {
      "text/plain": "21"
     },
     "execution_count": 7,
     "metadata": {},
     "output_type": "execute_result"
    }
   ],
   "source": [
    "len(input_encodings[0])\n"
   ],
   "metadata": {
    "collapsed": false,
    "ExecuteTime": {
     "end_time": "2023-12-27T18:45:18.236949300Z",
     "start_time": "2023-12-27T18:45:18.219949700Z"
    }
   },
   "id": "1cff096d6da05d8b",
   "execution_count": 7
  },
  {
   "cell_type": "code",
   "outputs": [
    {
     "data": {
      "text/plain": "21"
     },
     "execution_count": 8,
     "metadata": {},
     "output_type": "execute_result"
    }
   ],
   "source": [
    "len(label_encodings[0])"
   ],
   "metadata": {
    "collapsed": false,
    "ExecuteTime": {
     "end_time": "2023-12-27T18:45:18.286953100Z",
     "start_time": "2023-12-27T18:45:18.236949300Z"
    }
   },
   "id": "e45214e64ffe05ae",
   "execution_count": 8
  },
  {
   "cell_type": "code",
   "outputs": [],
   "source": [
    "inputs = torch.tensor(input_encodings)\n",
    "labels = torch.tensor(label_encodings)\n",
    "dataset = TensorDataset(inputs,labels)\n",
    "dataloader = DataLoader(dataset)"
   ],
   "metadata": {
    "collapsed": false,
    "ExecuteTime": {
     "end_time": "2023-12-27T18:45:18.287952900Z",
     "start_time": "2023-12-27T18:45:18.250948800Z"
    }
   },
   "id": "33f0e5b78bdd1092",
   "execution_count": 9
  },
  {
   "cell_type": "code",
   "outputs": [
    {
     "data": {
      "text/plain": "21"
     },
     "execution_count": 10,
     "metadata": {},
     "output_type": "execute_result"
    }
   ],
   "source": [
    "len(vocabulary)"
   ],
   "metadata": {
    "collapsed": false,
    "ExecuteTime": {
     "end_time": "2023-12-27T18:45:18.320263800Z",
     "start_time": "2023-12-27T18:45:18.265948200Z"
    }
   },
   "id": "6d293e067bd19f8d",
   "execution_count": 10
  },
  {
   "cell_type": "code",
   "outputs": [],
   "source": [
    "word_embedding = WordEmbeddings(vocab_size=len(vocabulary),network_width=3)"
   ],
   "metadata": {
    "collapsed": false,
    "ExecuteTime": {
     "end_time": "2023-12-27T18:45:18.323265700Z",
     "start_time": "2023-12-27T18:45:18.280954Z"
    }
   },
   "id": "7d5499a48651e207",
   "execution_count": 11
  },
  {
   "cell_type": "code",
   "outputs": [
    {
     "name": "stdout",
     "output_type": "stream",
     "text": [
      "Pre training parameters\n"
     ]
    },
    {
     "data": {
      "text/plain": "<Figure size 640x480 with 1 Axes>",
      "image/png": "[encoded data removed]"
     },
     "metadata": {},
     "output_type": "display_data"
    }
   ],
   "source": [
    "print('Pre training parameters')\n",
    "plot_token_relations(word_embedding,vocabulary)"
   ],
   "metadata": {
    "collapsed": false,
    "ExecuteTime": {
     "end_time": "2023-12-27T18:45:18.488794400Z",
     "start_time": "2023-12-27T18:45:18.313268400Z"
    }
   },
   "id": "f5c8aabb1388af36",
   "execution_count": 12
  },
  {
   "cell_type": "code",
   "outputs": [
    {
     "name": "stderr",
     "output_type": "stream",
     "text": [
      "GPU available: True (cuda), used: True\n",
      "TPU available: False, using: 0 TPU cores\n",
      "IPU available: False, using: 0 IPUs\n",
      "HPU available: False, using: 0 HPUs\n",
      "LOCAL_RANK: 0 - CUDA_VISIBLE_DEVICES: [0]\n",
      "\n",
      "  | Name         | Type             | Params\n",
      "--------------------------------------------------\n",
      "0 | loss         | CrossEntropyLoss | 0     \n",
      "  | other params | n/a              | 126   \n",
      "--------------------------------------------------\n",
      "126       Trainable params\n",
      "0         Non-trainable params\n",
      "126       Total params\n",
      "0.001     Total estimated model params size (MB)\n",
      "C:\\Users\\parag\\.conda\\envs\\encoder_decoder\\lib\\site-packages\\lightning\\pytorch\\trainer\\connectors\\data_connector.py:441: The 'train_dataloader' does not have many workers which may be a bottleneck. Consider increasing the value of the `num_workers` argument` to `num_workers=11` in the `DataLoader` to improve performance.\n",
      "C:\\Users\\parag\\.conda\\envs\\encoder_decoder\\lib\\site-packages\\lightning\\pytorch\\loops\\fit_loop.py:293: The number of training batches (27) is smaller than the logging interval Trainer(log_every_n_steps=50). Set a lower value for log_every_n_steps if you want to see logs for the training epoch.\n"
     ]
    },
    {
     "data": {
      "text/plain": "Training: |          | 0/? [00:00<?, ?it/s]",
      "application/vnd.jupyter.widget-view+json": {
       "version_major": 2,
       "version_minor": 0,
       "model_id": "b2b867c8d39a4cd28eb2cff090c8b304"
      }
     },
     "metadata": {},
     "output_type": "display_data"
    },
    {
     "name": "stderr",
     "output_type": "stream",
     "text": [
      "`Trainer.fit` stopped: `max_epochs=150` reached.\n"
     ]
    }
   ],
   "source": [
    "trainer = L.Trainer(max_epochs=150)\n",
    "trainer.fit(word_embedding,train_dataloaders=dataloader)"
   ],
   "metadata": {
    "collapsed": false,
    "ExecuteTime": {
     "end_time": "2023-12-27T18:46:42.563791900Z",
     "start_time": "2023-12-27T18:45:18.488794400Z"
    }
   },
   "id": "e753ac482168c962",
   "execution_count": 13
  },
  {
   "cell_type": "code",
   "outputs": [
    {
     "name": "stdout",
     "output_type": "stream",
     "text": [
      "Post training parameters\n"
     ]
    },
    {
     "data": {
      "text/plain": "<Figure size 640x480 with 1 Axes>",
      "image/png": "[encoded data removed]"
     },
     "metadata": {},
     "output_type": "display_data"
    }
   ],
   "source": [
    "print('Post training parameters')\n",
    "plot_token_relations(word_embedding,vocabulary)"
   ],
   "metadata": {
    "collapsed": false,
    "ExecuteTime": {
     "end_time": "2023-12-27T18:46:42.713374300Z",
     "start_time": "2023-12-27T18:46:42.439101200Z"
    }
   },
   "id": "5b3be076622ab704",
   "execution_count": 14
  },
  {
   "cell_type": "code",
   "outputs": [],
   "source": [
    "weights_df = get_weights(word_embedding,vocabulary)"
   ],
   "metadata": {
    "collapsed": false,
    "ExecuteTime": {
     "end_time": "2023-12-27T18:46:42.713880800Z",
     "start_time": "2023-12-27T18:46:42.678111500Z"
    }
   },
   "id": "9e13b0ab152d098d",
   "execution_count": 15
  },
  {
   "cell_type": "code",
   "outputs": [
    {
     "data": {
      "text/plain": "           0         1         2   token\n0   2.184844  0.266063 -3.426512       a\n1  -0.155813 -0.273916 -5.666689     way\n2  -1.963029  1.152744  0.437466    need\n3  -2.279235 -0.955099  1.024549  alive!\n4  -0.006140 -1.733706  0.386079     may\n5  -1.584552 -1.742278 -0.729125   don't\n6   0.938561  5.728534 -1.667732    you.\n7  -0.265322 -1.451197  2.206132   force\n8  -1.802587  5.356321 -4.631085   <eos>\n9  -0.417235 -0.645658  2.569599      be\n10 -1.303204  1.512164  2.299339   roads\n11 -0.044198 -2.205812  0.795025     the\n12  2.308597  2.922502  1.820337    with\n13  1.771881 -0.888079  0.058104    life\n14  0.420180 -2.223274 -0.419540   going\n15  0.381239  0.717332  2.849219       ?\n16  1.317729 -0.739730  2.021820   where\n17 -0.635925 -2.611794 -0.970501      we\n18 -2.027136 -0.627242  0.542719    it's\n19  1.833391 -2.103893  0.281960   we're\n20  3.071271  0.448412  0.689922   finds",
      "text/html": "<div>\n<style scoped>\n    .dataframe tbody tr th:only-of-type {\n        vertical-align: middle;\n    }\n\n    .dataframe tbody tr th {\n        vertical-align: top;\n    }\n\n    .dataframe thead th {\n        text-align: right;\n    }\n</style>\n<table border=\"1\" class=\"dataframe\">\n  <thead>\n    <tr style=\"text-align: right;\">\n      <th></th>\n      <th>0</th>\n      <th>1</th>\n      <th>2</th>\n      <th>token</th>\n    </tr>\n  </thead>\n  <tbody>\n    <tr>\n      <th>0</th>\n      <td>2.184844</td>\n      <td>0.266063</td>\n      <td>-3.426512</td>\n      <td>a</td>\n    </tr>\n    <tr>\n      <th>1</th>\n      <td>-0.155813</td>\n      <td>-0.273916</td>\n      <td>-5.666689</td>\n      <td>way</td>\n    </tr>\n    <tr>\n      <th>2</th>\n      <td>-1.963029</td>\n      <td>1.152744</td>\n      <td>0.437466</td>\n      <td>need</td>\n    </tr>\n    <tr>\n      <th>3</th>\n      <td>-2.279235</td>\n      <td>-0.955099</td>\n      <td>1.024549</td>\n      <td>alive!</td>\n    </tr>\n    <tr>\n      <th>4</th>\n      <td>-0.006140</td>\n      <td>-1.733706</td>\n      <td>0.386079</td>\n      <td>may</td>\n    </tr>\n    <tr>\n      <th>5</th>\n      <td>-1.584552</td>\n      <td>-1.742278</td>\n      <td>-0.729125</td>\n      <td>don't</td>\n    </tr>\n    <tr>\n      <th>6</th>\n      <td>0.938561</td>\n      <td>5.728534</td>\n      <td>-1.667732</td>\n      <td>you.</td>\n    </tr>\n    <tr>\n      <th>7</th>\n      <td>-0.265322</td>\n      <td>-1.451197</td>\n      <td>2.206132</td>\n      <td>force</td>\n    </tr>\n    <tr>\n      <th>8</th>\n      <td>-1.802587</td>\n      <td>5.356321</td>\n      <td>-4.631085</td>\n      <td>&lt;eos&gt;</td>\n    </tr>\n    <tr>\n      <th>9</th>\n      <td>-0.417235</td>\n      <td>-0.645658</td>\n      <td>2.569599</td>\n      <td>be</td>\n    </tr>\n    <tr>\n      <th>10</th>\n      <td>-1.303204</td>\n      <td>1.512164</td>\n      <td>2.299339</td>\n      <td>roads</td>\n    </tr>\n    <tr>\n      <th>11</th>\n      <td>-0.044198</td>\n      <td>-2.205812</td>\n      <td>0.795025</td>\n      <td>the</td>\n    </tr>\n    <tr>\n      <th>12</th>\n      <td>2.308597</td>\n      <td>2.922502</td>\n      <td>1.820337</td>\n      <td>with</td>\n    </tr>\n    <tr>\n      <th>13</th>\n      <td>1.771881</td>\n      <td>-0.888079</td>\n      <td>0.058104</td>\n      <td>life</td>\n    </tr>\n    <tr>\n      <th>14</th>\n      <td>0.420180</td>\n      <td>-2.223274</td>\n      <td>-0.419540</td>\n      <td>going</td>\n    </tr>\n    <tr>\n      <th>15</th>\n      <td>0.381239</td>\n      <td>0.717332</td>\n      <td>2.849219</td>\n      <td>?</td>\n    </tr>\n    <tr>\n      <th>16</th>\n      <td>1.317729</td>\n      <td>-0.739730</td>\n      <td>2.021820</td>\n      <td>where</td>\n    </tr>\n    <tr>\n      <th>17</th>\n      <td>-0.635925</td>\n      <td>-2.611794</td>\n      <td>-0.970501</td>\n      <td>we</td>\n    </tr>\n    <tr>\n      <th>18</th>\n      <td>-2.027136</td>\n      <td>-0.627242</td>\n      <td>0.542719</td>\n      <td>it's</td>\n    </tr>\n    <tr>\n      <th>19</th>\n      <td>1.833391</td>\n      <td>-2.103893</td>\n      <td>0.281960</td>\n      <td>we're</td>\n    </tr>\n    <tr>\n      <th>20</th>\n      <td>3.071271</td>\n      <td>0.448412</td>\n      <td>0.689922</td>\n      <td>finds</td>\n    </tr>\n  </tbody>\n</table>\n</div>"
     },
     "execution_count": 16,
     "metadata": {},
     "output_type": "execute_result"
    }
   ],
   "source": [
    "weights_df"
   ],
   "metadata": {
    "collapsed": false,
    "ExecuteTime": {
     "end_time": "2023-12-27T18:46:42.727405900Z",
     "start_time": "2023-12-27T18:46:42.694135600Z"
    }
   },
   "id": "5cfd1a5d80499550",
   "execution_count": 16
  },
  {
   "cell_type": "code",
   "outputs": [],
   "source": [],
   "metadata": {
    "collapsed": false,
    "ExecuteTime": {
     "end_time": "2023-12-27T18:46:42.736998300Z",
     "start_time": "2023-12-27T18:46:42.725406300Z"
    }
   },
   "id": "20f97922cde21307",
   "execution_count": 16
  }
 ],
 "metadata": {
  "kernelspec": {
   "display_name": "Python 3",
   "language": "python",
   "name": "python3"
  },
  "language_info": {
   "codemirror_mode": {
    "name": "ipython",
    "version": 2
   },
   "file_extension": ".py",
   "mimetype": "text/x-python",
   "name": "python",
   "nbconvert_exporter": "python",
   "pygments_lexer": "ipython2",
   "version": "2.7.6"
  }
 },
 "nbformat": 4,
 "nbformat_minor": 5
}
