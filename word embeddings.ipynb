{
 "cells": [
  {
   "cell_type": "code",
   "execution_count": 4,
   "id": "initial_id",
   "metadata": {
    "collapsed": true,
    "ExecuteTime": {
     "end_time": "2023-12-27T17:28:22.307961200Z",
     "start_time": "2023-12-27T17:28:22.250158700Z"
    }
   },
   "outputs": [],
   "source": [
    "import torch\n",
    "import lightning as L\n",
    "from torch.utils.data import TensorDataset,DataLoader\n",
    "# custom modules\n",
    "from word_embedding import WordEmbeddings\n",
    "from utils import plot_token_relations , vectorize_text, get_weights"
   ]
  },
  {
   "cell_type": "code",
   "outputs": [],
   "source": [
    "input_texts = [\"Roads ? Where we're going we don't need roads.\",\"It's alive! It's alive!\",\"May the Force be with you.\",\"Life finds a way.\"]"
   ],
   "metadata": {
    "collapsed": false,
    "ExecuteTime": {
     "end_time": "2023-12-27T17:28:22.309962300Z",
     "start_time": "2023-12-27T17:28:22.265115900Z"
    }
   },
   "id": "2e0ff6bff7c1e14d",
   "execution_count": 5
  },
  {
   "cell_type": "code",
   "outputs": [],
   "source": [
    "eos_symbol = '<eos>'\n",
    "input_texts = [input_text.lower() + f' {eos_symbol}' for input_text in input_texts]"
   ],
   "metadata": {
    "collapsed": false,
    "ExecuteTime": {
     "end_time": "2023-12-27T17:28:22.309962300Z",
     "start_time": "2023-12-27T17:28:22.282921300Z"
    }
   },
   "id": "a1513d82764e9a3",
   "execution_count": 6
  },
  {
   "cell_type": "code",
   "outputs": [],
   "source": [
    "vocabulary = []\n",
    "for text in input_texts:\n",
    "    vocabulary.extend(text.split(' '))\n",
    "vocabulary = list(set(vocabulary))"
   ],
   "metadata": {
    "collapsed": false,
    "ExecuteTime": {
     "end_time": "2023-12-27T17:28:22.329557500Z",
     "start_time": "2023-12-27T17:28:22.314041700Z"
    }
   },
   "id": "19d434ffd732874e",
   "execution_count": 7
  },
  {
   "cell_type": "code",
   "outputs": [
    {
     "data": {
      "text/plain": "[\"don't\",\n '<eos>',\n 'force',\n 'the',\n 'we',\n 'may',\n 'a',\n 'roads',\n 'be',\n 'going',\n 'need',\n 'roads.',\n 'alive!',\n 'where',\n \"we're\",\n 'with',\n 'life',\n 'you.',\n 'way.',\n '?',\n \"it's\",\n 'finds']"
     },
     "execution_count": 8,
     "metadata": {},
     "output_type": "execute_result"
    }
   ],
   "source": [
    "vocabulary"
   ],
   "metadata": {
    "collapsed": false,
    "ExecuteTime": {
     "end_time": "2023-12-27T17:28:22.362186700Z",
     "start_time": "2023-12-27T17:28:22.337076800Z"
    }
   },
   "id": "7bc4d28db21e9f30",
   "execution_count": 8
  },
  {
   "cell_type": "code",
   "outputs": [],
   "source": [],
   "metadata": {
    "collapsed": false,
    "ExecuteTime": {
     "end_time": "2023-12-27T17:28:22.398755700Z",
     "start_time": "2023-12-27T17:28:22.359672400Z"
    }
   },
   "id": "7fa64be9ff403866",
   "execution_count": 8
  },
  {
   "cell_type": "code",
   "outputs": [],
   "source": [
    "input_encodings = []\n",
    "label_encodings = []\n",
    "for text in input_texts:\n",
    "    inputs,labels = vectorize_text(eos_symbol,text,vocabulary)\n",
    "    input_encodings.extend(inputs)\n",
    "    label_encodings.extend(labels)"
   ],
   "metadata": {
    "collapsed": false,
    "ExecuteTime": {
     "end_time": "2023-12-27T17:28:22.400759200Z",
     "start_time": "2023-12-27T17:28:22.375722600Z"
    }
   },
   "id": "626cbfcfc4aab3f2",
   "execution_count": 9
  },
  {
   "cell_type": "code",
   "outputs": [
    {
     "data": {
      "text/plain": "22"
     },
     "execution_count": 10,
     "metadata": {},
     "output_type": "execute_result"
    }
   ],
   "source": [
    "len(input_encodings[0])\n"
   ],
   "metadata": {
    "collapsed": false,
    "ExecuteTime": {
     "end_time": "2023-12-27T17:28:22.412804600Z",
     "start_time": "2023-12-27T17:28:22.390240400Z"
    }
   },
   "id": "1cff096d6da05d8b",
   "execution_count": 10
  },
  {
   "cell_type": "code",
   "outputs": [
    {
     "data": {
      "text/plain": "22"
     },
     "execution_count": 11,
     "metadata": {},
     "output_type": "execute_result"
    }
   ],
   "source": [
    "len(label_encodings[0])"
   ],
   "metadata": {
    "collapsed": false,
    "ExecuteTime": {
     "end_time": "2023-12-27T17:28:22.448131600Z",
     "start_time": "2023-12-27T17:28:22.408293300Z"
    }
   },
   "id": "e45214e64ffe05ae",
   "execution_count": 11
  },
  {
   "cell_type": "code",
   "outputs": [],
   "source": [
    "inputs = torch.tensor(input_encodings)\n",
    "labels = torch.tensor(label_encodings)\n",
    "dataset = TensorDataset(inputs,labels)\n",
    "dataloader = DataLoader(dataset)"
   ],
   "metadata": {
    "collapsed": false,
    "ExecuteTime": {
     "end_time": "2023-12-27T17:28:22.449124900Z",
     "start_time": "2023-12-27T17:28:22.423328Z"
    }
   },
   "id": "33f0e5b78bdd1092",
   "execution_count": 12
  },
  {
   "cell_type": "code",
   "outputs": [
    {
     "data": {
      "text/plain": "22"
     },
     "execution_count": 13,
     "metadata": {},
     "output_type": "execute_result"
    }
   ],
   "source": [
    "len(vocabulary)"
   ],
   "metadata": {
    "collapsed": false,
    "ExecuteTime": {
     "end_time": "2023-12-27T17:28:22.478435200Z",
     "start_time": "2023-12-27T17:28:22.438841600Z"
    }
   },
   "id": "6d293e067bd19f8d",
   "execution_count": 13
  },
  {
   "cell_type": "code",
   "outputs": [],
   "source": [
    "word_embedding = WordEmbeddings(vocab_size=len(vocabulary),network_width=3)"
   ],
   "metadata": {
    "collapsed": false,
    "ExecuteTime": {
     "end_time": "2023-12-27T17:28:22.499472300Z",
     "start_time": "2023-12-27T17:28:22.452835400Z"
    }
   },
   "id": "7d5499a48651e207",
   "execution_count": 14
  },
  {
   "cell_type": "code",
   "outputs": [
    {
     "name": "stdout",
     "output_type": "stream",
     "text": [
      "Pre training parameters\n"
     ]
    },
    {
     "data": {
      "text/plain": "<Figure size 640x480 with 1 Axes>",
      "image/png": "[encoded data removed]"
     },
     "metadata": {},
     "output_type": "display_data"
    }
   ],
   "source": [
    "print('Pre training parameters')\n",
    "plot_token_relations(word_embedding,vocabulary)"
   ],
   "metadata": {
    "collapsed": false,
    "ExecuteTime": {
     "end_time": "2023-12-27T17:28:22.686191900Z",
     "start_time": "2023-12-27T17:28:22.483961200Z"
    }
   },
   "id": "f5c8aabb1388af36",
   "execution_count": 15
  },
  {
   "cell_type": "code",
   "outputs": [
    {
     "name": "stderr",
     "output_type": "stream",
     "text": [
      "GPU available: True (cuda), used: True\n",
      "TPU available: False, using: 0 TPU cores\n",
      "IPU available: False, using: 0 IPUs\n",
      "HPU available: False, using: 0 HPUs\n",
      "LOCAL_RANK: 0 - CUDA_VISIBLE_DEVICES: [0]\n",
      "\n",
      "  | Name         | Type             | Params\n",
      "--------------------------------------------------\n",
      "0 | loss         | CrossEntropyLoss | 0     \n",
      "  | other params | n/a              | 132   \n",
      "--------------------------------------------------\n",
      "132       Trainable params\n",
      "0         Non-trainable params\n",
      "132       Total params\n",
      "0.001     Total estimated model params size (MB)\n",
      "C:\\Users\\parag\\.conda\\envs\\encoder_decoder\\lib\\site-packages\\lightning\\pytorch\\trainer\\connectors\\data_connector.py:441: The 'train_dataloader' does not have many workers which may be a bottleneck. Consider increasing the value of the `num_workers` argument` to `num_workers=11` in the `DataLoader` to improve performance.\n",
      "C:\\Users\\parag\\.conda\\envs\\encoder_decoder\\lib\\site-packages\\lightning\\pytorch\\loops\\fit_loop.py:293: The number of training batches (27) is smaller than the logging interval Trainer(log_every_n_steps=50). Set a lower value for log_every_n_steps if you want to see logs for the training epoch.\n"
     ]
    },
    {
     "data": {
      "text/plain": "Training: |          | 0/? [00:00<?, ?it/s]",
      "application/vnd.jupyter.widget-view+json": {
       "version_major": 2,
       "version_minor": 0,
       "model_id": "95787a80a97944a08a303cdd3162a261"
      }
     },
     "metadata": {},
     "output_type": "display_data"
    },
    {
     "name": "stderr",
     "output_type": "stream",
     "text": [
      "`Trainer.fit` stopped: `max_epochs=150` reached.\n"
     ]
    }
   ],
   "source": [
    "trainer = L.Trainer(max_epochs=150)\n",
    "trainer.fit(word_embedding,train_dataloaders=dataloader)"
   ],
   "metadata": {
    "collapsed": false,
    "ExecuteTime": {
     "end_time": "2023-12-27T17:29:57.306317900Z",
     "start_time": "2023-12-27T17:28:22.684188700Z"
    }
   },
   "id": "e753ac482168c962",
   "execution_count": 16
  },
  {
   "cell_type": "code",
   "outputs": [
    {
     "name": "stdout",
     "output_type": "stream",
     "text": [
      "Post training parameters\n"
     ]
    },
    {
     "data": {
      "text/plain": "<Figure size 640x480 with 1 Axes>",
      "image/png": "[encoded data removed]"
     },
     "metadata": {},
     "output_type": "display_data"
    }
   ],
   "source": [
    "print('Post training parameters')\n",
    "plot_token_relations(word_embedding,vocabulary)"
   ],
   "metadata": {
    "collapsed": false,
    "ExecuteTime": {
     "end_time": "2023-12-27T17:30:16.783367Z",
     "start_time": "2023-12-27T17:30:16.434413100Z"
    }
   },
   "id": "5b3be076622ab704",
   "execution_count": 20
  },
  {
   "cell_type": "code",
   "outputs": [],
   "source": [
    "weights_df = get_weights(word_embedding,vocabulary)"
   ],
   "metadata": {
    "collapsed": false,
    "ExecuteTime": {
     "end_time": "2023-12-27T17:30:21.405997700Z",
     "start_time": "2023-12-27T17:30:21.384948700Z"
    }
   },
   "id": "9e13b0ab152d098d",
   "execution_count": 21
  },
  {
   "cell_type": "code",
   "outputs": [
    {
     "data": {
      "text/plain": "           0         1         2   token\n0   3.134836  0.908104  4.900590   don't\n1  -3.366259 -7.410185 -1.900576   <eos>\n2   4.679783 -1.009635 -0.260740   force\n3   2.568242 -0.799874 -3.060264     the\n4  -0.683863 -0.512653  5.331188      we\n5   1.289027  0.340447 -2.124624     may\n6   4.281835  1.321408 -0.550027       a\n7  -0.762477  0.714628 -1.852384   roads\n8   4.898881  0.226817  2.237710      be\n9  -2.834515  0.669905  3.942034   going\n10  1.451819 -4.738740  4.012205    need\n11 -2.209689 -7.120445  0.824240  roads.\n12 -0.017581  2.324949  0.089093  alive!\n13 -3.609892  1.174641 -0.507044   where\n14 -3.915971  0.965019  1.729376   we're\n15  3.109421 -5.192721  0.236890    with\n16 -0.377511  1.299428 -1.250582    life\n17  0.710913 -6.814843 -1.164051    you.\n18 -1.299751 -6.440487 -4.200145    way.\n19 -1.358606  1.048887 -2.726534       ?\n20 -0.266846  2.382444  0.212319    it's\n21  1.712400  1.589838 -2.829897   finds",
      "text/html": "<div>\n<style scoped>\n    .dataframe tbody tr th:only-of-type {\n        vertical-align: middle;\n    }\n\n    .dataframe tbody tr th {\n        vertical-align: top;\n    }\n\n    .dataframe thead th {\n        text-align: right;\n    }\n</style>\n<table border=\"1\" class=\"dataframe\">\n  <thead>\n    <tr style=\"text-align: right;\">\n      <th></th>\n      <th>0</th>\n      <th>1</th>\n      <th>2</th>\n      <th>token</th>\n    </tr>\n  </thead>\n  <tbody>\n    <tr>\n      <th>0</th>\n      <td>3.134836</td>\n      <td>0.908104</td>\n      <td>4.900590</td>\n      <td>don't</td>\n    </tr>\n    <tr>\n      <th>1</th>\n      <td>-3.366259</td>\n      <td>-7.410185</td>\n      <td>-1.900576</td>\n      <td>&lt;eos&gt;</td>\n    </tr>\n    <tr>\n      <th>2</th>\n      <td>4.679783</td>\n      <td>-1.009635</td>\n      <td>-0.260740</td>\n      <td>force</td>\n    </tr>\n    <tr>\n      <th>3</th>\n      <td>2.568242</td>\n      <td>-0.799874</td>\n      <td>-3.060264</td>\n      <td>the</td>\n    </tr>\n    <tr>\n      <th>4</th>\n      <td>-0.683863</td>\n      <td>-0.512653</td>\n      <td>5.331188</td>\n      <td>we</td>\n    </tr>\n    <tr>\n      <th>5</th>\n      <td>1.289027</td>\n      <td>0.340447</td>\n      <td>-2.124624</td>\n      <td>may</td>\n    </tr>\n    <tr>\n      <th>6</th>\n      <td>4.281835</td>\n      <td>1.321408</td>\n      <td>-0.550027</td>\n      <td>a</td>\n    </tr>\n    <tr>\n      <th>7</th>\n      <td>-0.762477</td>\n      <td>0.714628</td>\n      <td>-1.852384</td>\n      <td>roads</td>\n    </tr>\n    <tr>\n      <th>8</th>\n      <td>4.898881</td>\n      <td>0.226817</td>\n      <td>2.237710</td>\n      <td>be</td>\n    </tr>\n    <tr>\n      <th>9</th>\n      <td>-2.834515</td>\n      <td>0.669905</td>\n      <td>3.942034</td>\n      <td>going</td>\n    </tr>\n    <tr>\n      <th>10</th>\n      <td>1.451819</td>\n      <td>-4.738740</td>\n      <td>4.012205</td>\n      <td>need</td>\n    </tr>\n    <tr>\n      <th>11</th>\n      <td>-2.209689</td>\n      <td>-7.120445</td>\n      <td>0.824240</td>\n      <td>roads.</td>\n    </tr>\n    <tr>\n      <th>12</th>\n      <td>-0.017581</td>\n      <td>2.324949</td>\n      <td>0.089093</td>\n      <td>alive!</td>\n    </tr>\n    <tr>\n      <th>13</th>\n      <td>-3.609892</td>\n      <td>1.174641</td>\n      <td>-0.507044</td>\n      <td>where</td>\n    </tr>\n    <tr>\n      <th>14</th>\n      <td>-3.915971</td>\n      <td>0.965019</td>\n      <td>1.729376</td>\n      <td>we're</td>\n    </tr>\n    <tr>\n      <th>15</th>\n      <td>3.109421</td>\n      <td>-5.192721</td>\n      <td>0.236890</td>\n      <td>with</td>\n    </tr>\n    <tr>\n      <th>16</th>\n      <td>-0.377511</td>\n      <td>1.299428</td>\n      <td>-1.250582</td>\n      <td>life</td>\n    </tr>\n    <tr>\n      <th>17</th>\n      <td>0.710913</td>\n      <td>-6.814843</td>\n      <td>-1.164051</td>\n      <td>you.</td>\n    </tr>\n    <tr>\n      <th>18</th>\n      <td>-1.299751</td>\n      <td>-6.440487</td>\n      <td>-4.200145</td>\n      <td>way.</td>\n    </tr>\n    <tr>\n      <th>19</th>\n      <td>-1.358606</td>\n      <td>1.048887</td>\n      <td>-2.726534</td>\n      <td>?</td>\n    </tr>\n    <tr>\n      <th>20</th>\n      <td>-0.266846</td>\n      <td>2.382444</td>\n      <td>0.212319</td>\n      <td>it's</td>\n    </tr>\n    <tr>\n      <th>21</th>\n      <td>1.712400</td>\n      <td>1.589838</td>\n      <td>-2.829897</td>\n      <td>finds</td>\n    </tr>\n  </tbody>\n</table>\n</div>"
     },
     "execution_count": 22,
     "metadata": {},
     "output_type": "execute_result"
    }
   ],
   "source": [
    "weights_df"
   ],
   "metadata": {
    "collapsed": false,
    "ExecuteTime": {
     "end_time": "2023-12-27T17:30:22.836180400Z",
     "start_time": "2023-12-27T17:30:22.782581700Z"
    }
   },
   "id": "5cfd1a5d80499550",
   "execution_count": 22
  },
  {
   "cell_type": "code",
   "outputs": [],
   "source": [],
   "metadata": {
    "collapsed": false
   },
   "id": "20f97922cde21307"
  }
 ],
 "metadata": {
  "kernelspec": {
   "display_name": "Python 3",
   "language": "python",
   "name": "python3"
  },
  "language_info": {
   "codemirror_mode": {
    "name": "ipython",
    "version": 2
   },
   "file_extension": ".py",
   "mimetype": "text/x-python",
   "name": "python",
   "nbconvert_exporter": "python",
   "pygments_lexer": "ipython2",
   "version": "2.7.6"
  }
 },
 "nbformat": 4,
 "nbformat_minor": 5
}
